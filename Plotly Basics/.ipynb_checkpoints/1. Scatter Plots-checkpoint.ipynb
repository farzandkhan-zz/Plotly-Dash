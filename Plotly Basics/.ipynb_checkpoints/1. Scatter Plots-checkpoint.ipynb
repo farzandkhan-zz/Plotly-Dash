{
 "cells": [
  {
   "cell_type": "markdown",
   "metadata": {},
   "source": [
    "**Scatter Plots** allow the comparision of two variables for a set of data. Helps in\n",
    "\n",
    "* finding correlation"
   ]
  },
  {
   "cell_type": "code",
   "execution_count": 4,
   "metadata": {},
   "outputs": [],
   "source": [
    "import numpy as np\n",
    "import plotly.offline as pyo\n",
    "import plotly.graph_objs as go"
   ]
  },
  {
   "cell_type": "code",
   "execution_count": 5,
   "metadata": {},
   "outputs": [],
   "source": [
    "# set random seed to 42\n",
    "np.random.seed(42)"
   ]
  },
  {
   "cell_type": "code",
   "execution_count": 6,
   "metadata": {},
   "outputs": [],
   "source": [
    "# generate random data\n",
    "randomX = np.random.randint(1, 101, 100)\n",
    "randomY = np.random.randint(1, 101, 100)"
   ]
  },
  {
   "cell_type": "code",
   "execution_count": 12,
   "metadata": {},
   "outputs": [
    {
     "data": {
      "text/plain": [
       "'ScatterPlot.html'"
      ]
     },
     "execution_count": 12,
     "metadata": {},
     "output_type": "execute_result"
    }
   ],
   "source": [
    "# list which contains actual plot with x, y params\n",
    "data = [go.Scatter(x=randomX,\n",
    "                   y=randomY, \n",
    "                   mode='markers',\n",
    "                   marker=dict(\n",
    "                       size=12,\n",
    "                       color='rgb(51, 204, 153)',\n",
    "                       symbol='pentagon',\n",
    "                       line=dict(width=2),                       \n",
    "                   ))]\n",
    "\n",
    "\n",
    "# define the layout of the plot, axes and more\n",
    "layout = go.Layout(title='Scatter Plot', \n",
    "                  xaxis={'title': 'X-Axis'},\n",
    "                  yaxis=dict(title='Y-Axis'),\n",
    "                  hovermode='closest')\n",
    "\n",
    "# create a figure object\n",
    "fig = go.Figure(data=data, layout=layout)\n",
    "# pass figure object to a plot call\n",
    "pyo.plot(fig, filename='ScatterPlot.html')"
   ]
  },
  {
   "cell_type": "code",
   "execution_count": null,
   "metadata": {},
   "outputs": [],
   "source": []
  }
 ],
 "metadata": {
  "kernelspec": {
   "display_name": "Python 3",
   "language": "python",
   "name": "python3"
  },
  "language_info": {
   "codemirror_mode": {
    "name": "ipython",
    "version": 3
   },
   "file_extension": ".py",
   "mimetype": "text/x-python",
   "name": "python",
   "nbconvert_exporter": "python",
   "pygments_lexer": "ipython3",
   "version": "3.7.6"
  }
 },
 "nbformat": 4,
 "nbformat_minor": 4
}
