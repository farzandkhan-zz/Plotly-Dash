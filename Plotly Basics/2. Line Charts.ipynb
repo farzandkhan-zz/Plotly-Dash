{
 "cells": [
  {
   "cell_type": "markdown",
   "metadata": {},
   "source": [
    "**Line Charts** displays a series of data points connected by line segments\n",
    "\n",
    "* It is similar to scatter except that the measurment points are ordered (typically by their X-axis value) and joined with line segments\n",
    "* Often used to visulalize trends in data over intervals of time - known as time series"
   ]
  },
  {
   "cell_type": "code",
   "execution_count": 1,
   "metadata": {},
   "outputs": [],
   "source": [
    "# import req libraries\n",
    "import numpy as np\n",
    "import plotly.offline as pyo\n",
    "import plotly.graph_objs as go"
   ]
  },
  {
   "cell_type": "code",
   "execution_count": 4,
   "metadata": {},
   "outputs": [],
   "source": [
    "# create random x & y data\n",
    "randomX = np.linspace(0, 1, 100)\n",
    "randomY = np.random.randn(100)"
   ]
  },
  {
   "cell_type": "code",
   "execution_count": 12,
   "metadata": {},
   "outputs": [
    {
     "name": "stderr",
     "output_type": "stream",
     "text": [
      "/home/farzand/anaconda3/lib/python3.7/site-packages/plotly/offline/offline.py:563: UserWarning:\n",
      "\n",
      "Your filename `Line Chart` didn't end with .html. Adding .html to the end of your file.\n",
      "\n"
     ]
    },
    {
     "data": {
      "text/plain": [
       "'Line Chart.html'"
      ]
     },
     "execution_count": 12,
     "metadata": {},
     "output_type": "execute_result"
    }
   ],
   "source": [
    "# every line chart we put on our figure is known as a trace\n",
    "\n",
    "trace0 = go.Scatter(x=randomX, y=randomY+5, mode='markers', name='markers')\n",
    "trace1 = go.Scatter(x=randomX, y=randomY, mode='lines', name='lines')\n",
    "trace2 = go.Scatter(x=randomX, y=randomY-5, mode='lines+markers', name='lines+markers')\n",
    "data = [trace0, trace1, trace2]\n",
    "\n",
    "# layout call\n",
    "layout = go.Layout(title='Line Charts',\n",
    "                  xaxis=dict(title='X-Axis'),\n",
    "                  yaxis=dict(title='Y-Axis'))\n",
    "\n",
    "# create figure obj and pass to plot\n",
    "fig = go.Figure(data=data, layout=layout)\n",
    "pyo.plot(fig, filename='Line Chart.html')"
   ]
  },
  {
   "cell_type": "code",
   "execution_count": null,
   "metadata": {},
   "outputs": [],
   "source": []
  }
 ],
 "metadata": {
  "kernelspec": {
   "display_name": "Python 3",
   "language": "python",
   "name": "python3"
  },
  "language_info": {
   "codemirror_mode": {
    "name": "ipython",
    "version": 3
   },
   "file_extension": ".py",
   "mimetype": "text/x-python",
   "name": "python",
   "nbconvert_exporter": "python",
   "pygments_lexer": "ipython3",
   "version": "3.7.6"
  }
 },
 "nbformat": 4,
 "nbformat_minor": 4
}
